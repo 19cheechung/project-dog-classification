{
 "cells": [
  {
   "cell_type": "code",
   "execution_count": null,
   "metadata": {},
   "outputs": [],
   "source": [
    "a=torch.randn(4,2,3)\n",
    "\n",
    "a.shape\n",
    "\n",
    "a\n",
    "#4 rows, 2 columns, 3 depth sections\n",
    "\n",
    "torch.max(a,1)\n",
    "#for each columns of 2, whats the max.12 values\n",
    "\n",
    "torch.max(a,2)\n",
    "#for each depth of 3, whats the max. 8 values. \n",
    "\n",
    "torch.max(a,0)\n",
    "#for each rows of 4. 6 values\n",
    "\n",
    "torch.max(a,-1)\n",
    "#first dimension from behind, depth\n",
    "\n",
    "torch.max(a,-2)\n",
    "#second dimension from behind, columns\n",
    "\n",
    "torch.max(a,-3)\n",
    "#3rd dimension from behind rows"
   ]
  }
 ],
 "metadata": {
  "kernelspec": {
   "display_name": "Python 3",
   "language": "python",
   "name": "python3"
  },
  "language_info": {
   "codemirror_mode": {
    "name": "ipython",
    "version": 3
   },
   "file_extension": ".py",
   "mimetype": "text/x-python",
   "name": "python",
   "nbconvert_exporter": "python",
   "pygments_lexer": "ipython3",
   "version": "3.8.2"
  }
 },
 "nbformat": 4,
 "nbformat_minor": 4
}
